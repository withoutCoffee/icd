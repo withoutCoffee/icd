{
 "cells": [
  {
   "cell_type": "markdown",
   "metadata": {},
   "source": [
    "# Introdução à Ciência de Dados - UFPB\n",
    "Aluno: Jonas Pereira de Oliveira\n",
    "\n",
    "## Correlação"
   ]
  },
  {
   "cell_type": "markdown",
   "metadata": {},
   "source": [
    "Colete os seguintes dados dos times do campeonato brasileiro de 2019:\n",
    "\n",
    "- Pontos\n",
    "- Gols marcados\n",
    "- Gol sofridos\n",
    "\n",
    "Você pode encontrar esses dados no site da CBF (www.cbf.com.br)\n",
    "\n",
    "Calcule a correlação entre:\n",
    "\n",
    "- Pontos e gols marcados\n",
    "- Pontos e gols sofridos"
   ]
  },
  {
   "cell_type": "markdown",
   "metadata": {},
   "source": [
    "### Correlação entre Pontos e gols marcados"
   ]
  },
  {
   "cell_type": "code",
   "execution_count": 27,
   "metadata": {
    "scrolled": true
   },
   "outputs": [],
   "source": [
    "from bs4 import BeautifulSoup\n",
    "import requests\n",
    "import pandas as pd"
   ]
  },
  {
   "cell_type": "code",
   "execution_count": 130,
   "metadata": {},
   "outputs": [],
   "source": [
    "url = \"https://www.cbf.com.br/futebol-brasileiro/competicoes/campeonato-brasileiro-serie-a/2019\"\n",
    "\n",
    "html_content = requests.get(url).text\n",
    "\n",
    "soup = BeautifulSoup(html_content,'lxml')\n",
    "table = soup.find(\"table\",attrs = {\"class\":\"table m-b-20 tabela-expandir\"})\n"
   ]
  },
  {
   "cell_type": "markdown",
   "metadata": {},
   "source": [
    "### Scraping dos dados do site da cbf\n",
    "#### Dados do Campeonato Brasileiro Série A 2019"
   ]
  },
  {
   "cell_type": "code",
   "execution_count": 139,
   "metadata": {
    "scrolled": false
   },
   "outputs": [
    {
     "data": {
      "text/html": [
       "<div>\n",
       "<style scoped>\n",
       "    .dataframe tbody tr th:only-of-type {\n",
       "        vertical-align: middle;\n",
       "    }\n",
       "\n",
       "    .dataframe tbody tr th {\n",
       "        vertical-align: top;\n",
       "    }\n",
       "\n",
       "    .dataframe thead th {\n",
       "        text-align: right;\n",
       "    }\n",
       "</style>\n",
       "<table border=\"1\" class=\"dataframe\">\n",
       "  <thead>\n",
       "    <tr style=\"text-align: right;\">\n",
       "      <th></th>\n",
       "      <th>Times</th>\n",
       "      <th>Pontos</th>\n",
       "      <th>Gols Feitos</th>\n",
       "      <th>Gols Sofridos</th>\n",
       "    </tr>\n",
       "  </thead>\n",
       "  <tbody>\n",
       "    <tr>\n",
       "      <th>0</th>\n",
       "      <td>Flamengo - RJ</td>\n",
       "      <td>90</td>\n",
       "      <td>86</td>\n",
       "      <td>37</td>\n",
       "    </tr>\n",
       "    <tr>\n",
       "      <th>1</th>\n",
       "      <td>Santos - SP</td>\n",
       "      <td>74</td>\n",
       "      <td>60</td>\n",
       "      <td>33</td>\n",
       "    </tr>\n",
       "    <tr>\n",
       "      <th>2</th>\n",
       "      <td>Palmeiras - SP</td>\n",
       "      <td>74</td>\n",
       "      <td>61</td>\n",
       "      <td>32</td>\n",
       "    </tr>\n",
       "    <tr>\n",
       "      <th>3</th>\n",
       "      <td>Grêmio - RS</td>\n",
       "      <td>65</td>\n",
       "      <td>64</td>\n",
       "      <td>39</td>\n",
       "    </tr>\n",
       "    <tr>\n",
       "      <th>4</th>\n",
       "      <td>Athletico Paranaense - PR</td>\n",
       "      <td>64</td>\n",
       "      <td>51</td>\n",
       "      <td>32</td>\n",
       "    </tr>\n",
       "    <tr>\n",
       "      <th>5</th>\n",
       "      <td>São Paulo - SP</td>\n",
       "      <td>63</td>\n",
       "      <td>39</td>\n",
       "      <td>30</td>\n",
       "    </tr>\n",
       "    <tr>\n",
       "      <th>6</th>\n",
       "      <td>Internacional - RS</td>\n",
       "      <td>57</td>\n",
       "      <td>44</td>\n",
       "      <td>38</td>\n",
       "    </tr>\n",
       "    <tr>\n",
       "      <th>7</th>\n",
       "      <td>Corinthians - SP</td>\n",
       "      <td>56</td>\n",
       "      <td>42</td>\n",
       "      <td>34</td>\n",
       "    </tr>\n",
       "    <tr>\n",
       "      <th>8</th>\n",
       "      <td>Fortaleza - CE</td>\n",
       "      <td>53</td>\n",
       "      <td>50</td>\n",
       "      <td>49</td>\n",
       "    </tr>\n",
       "    <tr>\n",
       "      <th>9</th>\n",
       "      <td>Goiás - GO</td>\n",
       "      <td>52</td>\n",
       "      <td>46</td>\n",
       "      <td>64</td>\n",
       "    </tr>\n",
       "    <tr>\n",
       "      <th>10</th>\n",
       "      <td>Bahia - BA</td>\n",
       "      <td>49</td>\n",
       "      <td>44</td>\n",
       "      <td>43</td>\n",
       "    </tr>\n",
       "    <tr>\n",
       "      <th>11</th>\n",
       "      <td>Vasco da Gama - RJ</td>\n",
       "      <td>49</td>\n",
       "      <td>39</td>\n",
       "      <td>45</td>\n",
       "    </tr>\n",
       "    <tr>\n",
       "      <th>12</th>\n",
       "      <td>Atlético - MG</td>\n",
       "      <td>48</td>\n",
       "      <td>44</td>\n",
       "      <td>49</td>\n",
       "    </tr>\n",
       "    <tr>\n",
       "      <th>13</th>\n",
       "      <td>Fluminense - RJ</td>\n",
       "      <td>46</td>\n",
       "      <td>38</td>\n",
       "      <td>46</td>\n",
       "    </tr>\n",
       "    <tr>\n",
       "      <th>14</th>\n",
       "      <td>Botafogo - RJ</td>\n",
       "      <td>43</td>\n",
       "      <td>31</td>\n",
       "      <td>45</td>\n",
       "    </tr>\n",
       "    <tr>\n",
       "      <th>15</th>\n",
       "      <td>Ceará - CE</td>\n",
       "      <td>39</td>\n",
       "      <td>36</td>\n",
       "      <td>41</td>\n",
       "    </tr>\n",
       "    <tr>\n",
       "      <th>16</th>\n",
       "      <td>Cruzeiro - MG</td>\n",
       "      <td>36</td>\n",
       "      <td>27</td>\n",
       "      <td>46</td>\n",
       "    </tr>\n",
       "    <tr>\n",
       "      <th>17</th>\n",
       "      <td>Csa - AL</td>\n",
       "      <td>32</td>\n",
       "      <td>24</td>\n",
       "      <td>58</td>\n",
       "    </tr>\n",
       "    <tr>\n",
       "      <th>18</th>\n",
       "      <td>Chapecoense - SC</td>\n",
       "      <td>32</td>\n",
       "      <td>31</td>\n",
       "      <td>52</td>\n",
       "    </tr>\n",
       "    <tr>\n",
       "      <th>19</th>\n",
       "      <td>Avaí - SC</td>\n",
       "      <td>20</td>\n",
       "      <td>18</td>\n",
       "      <td>62</td>\n",
       "    </tr>\n",
       "  </tbody>\n",
       "</table>\n",
       "</div>"
      ],
      "text/plain": [
       "                        Times  Pontos  Gols Feitos  Gols Sofridos\n",
       "0               Flamengo - RJ      90           86             37\n",
       "1                 Santos - SP      74           60             33\n",
       "2              Palmeiras - SP      74           61             32\n",
       "3                 Grêmio - RS      65           64             39\n",
       "4   Athletico Paranaense - PR      64           51             32\n",
       "5              São Paulo - SP      63           39             30\n",
       "6          Internacional - RS      57           44             38\n",
       "7            Corinthians - SP      56           42             34\n",
       "8              Fortaleza - CE      53           50             49\n",
       "9                  Goiás - GO      52           46             64\n",
       "10                 Bahia - BA      49           44             43\n",
       "11         Vasco da Gama - RJ      49           39             45\n",
       "12              Atlético - MG      48           44             49\n",
       "13            Fluminense - RJ      46           38             46\n",
       "14              Botafogo - RJ      43           31             45\n",
       "15                 Ceará - CE      39           36             41\n",
       "16              Cruzeiro - MG      36           27             46\n",
       "17                   Csa - AL      32           24             58\n",
       "18           Chapecoense - SC      32           31             52\n",
       "19                  Avaí - SC      20           18             62"
      ]
     },
     "execution_count": 139,
     "metadata": {},
     "output_type": "execute_result"
    }
   ],
   "source": [
    "data_table = table.tbody.find_all(\"tr\")\n",
    "\n",
    "data = {}\n",
    "times = []\n",
    "pontos = []\n",
    "gols_pro = []\n",
    "gols_sofridos = []\n",
    "\n",
    "for i,row in enumerate(data_table):\n",
    "    name = row.find(\"span\",attrs={\"class\":\"hidden-xs\"})\n",
    "    pts = row.find(\"th\",attrs={\"scope\":\"row\"})\n",
    "    goals = row.find_all(\"td\",attrs={\"class\":\"hidden-md hidden-xs\"})\n",
    "    try:\n",
    "        times.append(name.getText())\n",
    "        pontos.append(int(pts.getText()))\n",
    "        gols_pro.append(int(goals[0].getText()))\n",
    "        gols_sofridos.append(int(goals[1].getText()))\n",
    "    except:\n",
    "        pass\n",
    "    \n",
    "data['Times'] = times\n",
    "data['Pontos'] = pontos\n",
    "data['Gols Feitos'] = gols_pro\n",
    "data['Gols Sofridos'] = gols_sofridos\n",
    "\n",
    "#  building dataframe\n",
    "df = pd.DataFrame(data)\n",
    "df"
   ]
  },
  {
   "cell_type": "markdown",
   "metadata": {},
   "source": [
    "### Correlação"
   ]
  },
  {
   "cell_type": "code",
   "execution_count": 143,
   "metadata": {},
   "outputs": [
    {
     "data": {
      "text/html": [
       "<style  type=\"text/css\" >\n",
       "    #T_79fc8c92_0e88_11eb_8cc3_cb5a8eec48dfrow0_col0 {\n",
       "            background-color:  #b40426;\n",
       "            color:  #f1f1f1;\n",
       "        }    #T_79fc8c92_0e88_11eb_8cc3_cb5a8eec48dfrow0_col1 {\n",
       "            background-color:  #3b4cc0;\n",
       "            color:  #f1f1f1;\n",
       "        }    #T_79fc8c92_0e88_11eb_8cc3_cb5a8eec48dfrow1_col0 {\n",
       "            background-color:  #3b4cc0;\n",
       "            color:  #f1f1f1;\n",
       "        }    #T_79fc8c92_0e88_11eb_8cc3_cb5a8eec48dfrow1_col1 {\n",
       "            background-color:  #b40426;\n",
       "            color:  #f1f1f1;\n",
       "        }</style><table id=\"T_79fc8c92_0e88_11eb_8cc3_cb5a8eec48df\" ><thead>    <tr>        <th class=\"blank level0\" ></th>        <th class=\"col_heading level0 col0\" >Pontos</th>        <th class=\"col_heading level0 col1\" >Gols Feitos</th>    </tr></thead><tbody>\n",
       "                <tr>\n",
       "                        <th id=\"T_79fc8c92_0e88_11eb_8cc3_cb5a8eec48dflevel0_row0\" class=\"row_heading level0 row0\" >Pontos</th>\n",
       "                        <td id=\"T_79fc8c92_0e88_11eb_8cc3_cb5a8eec48dfrow0_col0\" class=\"data row0 col0\" >1.000000</td>\n",
       "                        <td id=\"T_79fc8c92_0e88_11eb_8cc3_cb5a8eec48dfrow0_col1\" class=\"data row0 col1\" >0.936469</td>\n",
       "            </tr>\n",
       "            <tr>\n",
       "                        <th id=\"T_79fc8c92_0e88_11eb_8cc3_cb5a8eec48dflevel0_row1\" class=\"row_heading level0 row1\" >Gols Feitos</th>\n",
       "                        <td id=\"T_79fc8c92_0e88_11eb_8cc3_cb5a8eec48dfrow1_col0\" class=\"data row1 col0\" >0.936469</td>\n",
       "                        <td id=\"T_79fc8c92_0e88_11eb_8cc3_cb5a8eec48dfrow1_col1\" class=\"data row1 col1\" >1.000000</td>\n",
       "            </tr>\n",
       "    </tbody></table>"
      ],
      "text/plain": [
       "<pandas.io.formats.style.Styler at 0x20524a7fb80>"
      ]
     },
     "execution_count": 143,
     "metadata": {},
     "output_type": "execute_result"
    }
   ],
   "source": [
    "corr  = df[['Pontos','Gols Feitos']].corr()\n",
    "corr.style.background_gradient(cmap='coolwarm')"
   ]
  },
  {
   "cell_type": "markdown",
   "metadata": {},
   "source": [
    "### Correlação entre Pontos e gols sofridos"
   ]
  },
  {
   "cell_type": "code",
   "execution_count": 144,
   "metadata": {},
   "outputs": [
    {
     "data": {
      "text/html": [
       "<style  type=\"text/css\" >\n",
       "    #T_82e4cfbc_0e88_11eb_b099_cb5a8eec48dfrow0_col0 {\n",
       "            background-color:  #b40426;\n",
       "            color:  #f1f1f1;\n",
       "        }    #T_82e4cfbc_0e88_11eb_b099_cb5a8eec48dfrow0_col1 {\n",
       "            background-color:  #3b4cc0;\n",
       "            color:  #f1f1f1;\n",
       "        }    #T_82e4cfbc_0e88_11eb_b099_cb5a8eec48dfrow1_col0 {\n",
       "            background-color:  #3b4cc0;\n",
       "            color:  #f1f1f1;\n",
       "        }    #T_82e4cfbc_0e88_11eb_b099_cb5a8eec48dfrow1_col1 {\n",
       "            background-color:  #b40426;\n",
       "            color:  #f1f1f1;\n",
       "        }</style><table id=\"T_82e4cfbc_0e88_11eb_b099_cb5a8eec48df\" ><thead>    <tr>        <th class=\"blank level0\" ></th>        <th class=\"col_heading level0 col0\" >Pontos</th>        <th class=\"col_heading level0 col1\" >Gols Sofridos</th>    </tr></thead><tbody>\n",
       "                <tr>\n",
       "                        <th id=\"T_82e4cfbc_0e88_11eb_b099_cb5a8eec48dflevel0_row0\" class=\"row_heading level0 row0\" >Pontos</th>\n",
       "                        <td id=\"T_82e4cfbc_0e88_11eb_b099_cb5a8eec48dfrow0_col0\" class=\"data row0 col0\" >1.000000</td>\n",
       "                        <td id=\"T_82e4cfbc_0e88_11eb_b099_cb5a8eec48dfrow0_col1\" class=\"data row0 col1\" >-0.715796</td>\n",
       "            </tr>\n",
       "            <tr>\n",
       "                        <th id=\"T_82e4cfbc_0e88_11eb_b099_cb5a8eec48dflevel0_row1\" class=\"row_heading level0 row1\" >Gols Sofridos</th>\n",
       "                        <td id=\"T_82e4cfbc_0e88_11eb_b099_cb5a8eec48dfrow1_col0\" class=\"data row1 col0\" >-0.715796</td>\n",
       "                        <td id=\"T_82e4cfbc_0e88_11eb_b099_cb5a8eec48dfrow1_col1\" class=\"data row1 col1\" >1.000000</td>\n",
       "            </tr>\n",
       "    </tbody></table>"
      ],
      "text/plain": [
       "<pandas.io.formats.style.Styler at 0x20524a7f460>"
      ]
     },
     "execution_count": 144,
     "metadata": {},
     "output_type": "execute_result"
    }
   ],
   "source": [
    "corr  = df[['Pontos','Gols Sofridos']].corr()\n",
    "corr.style.background_gradient(cmap='coolwarm')"
   ]
  },
  {
   "cell_type": "markdown",
   "metadata": {},
   "source": [
    "### Análise dos Resultados\n",
    "\n",
    "Qual o nível (fraco, moderado, forte) das correlações entre as variáveis analisadas?"
   ]
  },
  {
   "cell_type": "markdown",
   "metadata": {},
   "source": [
    "**Como a correlação é acima de $\\sqrt{(\\pm0.6)^2}$ podemos dizer que é alta.**"
   ]
  },
  {
   "cell_type": "markdown",
   "metadata": {},
   "source": [
    "De acordo com os dados analisados, é melhor um time focar em marcar mais gols ou sofrer menos gols?"
   ]
  },
  {
   "cell_type": "markdown",
   "metadata": {},
   "source": [
    "**Como a correção é mais alta positivamente para Gols Feitos, então é melhor fazer mais gols do que sofrer menos gols.**"
   ]
  },
  {
   "cell_type": "code",
   "execution_count": null,
   "metadata": {},
   "outputs": [],
   "source": []
  }
 ],
 "metadata": {
  "kernelspec": {
   "display_name": "Python 3",
   "language": "python",
   "name": "python3"
  },
  "language_info": {
   "codemirror_mode": {
    "name": "ipython",
    "version": 3
   },
   "file_extension": ".py",
   "mimetype": "text/x-python",
   "name": "python",
   "nbconvert_exporter": "python",
   "pygments_lexer": "ipython3",
   "version": "3.8.3"
  }
 },
 "nbformat": 4,
 "nbformat_minor": 4
}
