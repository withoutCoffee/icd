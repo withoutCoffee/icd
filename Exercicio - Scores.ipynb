{
 "cells": [
  {
   "cell_type": "markdown",
   "metadata": {},
   "source": [
    "# Introdução à Ciência de Dados - UFPB\n",
    "Aluno: Jonas Pereira de Oliveira\n",
    "\n",
    "\n",
    "##  Ranking\n",
    "\n",
    "- Sugestão de **raking incial** para os filmes a partir de um índice de **qualidade** definido pela combinação linear\n",
    "de variáveis da tabela de movies.csv como descrito abaixo.\n",
    "A ideia é propor um valor para qualidade do filme para servir como \"habilidade\" **para utilização do Elo Ranking**."
   ]
  },
  {
   "cell_type": "code",
   "execution_count": 1,
   "metadata": {},
   "outputs": [],
   "source": [
    "import pandas as pd\n",
    "from sklearn import preprocessing"
   ]
  },
  {
   "cell_type": "code",
   "execution_count": 2,
   "metadata": {},
   "outputs": [],
   "source": [
    "import numpy as  np"
   ]
  },
  {
   "cell_type": "code",
   "execution_count": 3,
   "metadata": {},
   "outputs": [],
   "source": [
    "df = pd.read_csv(\"datasets/movies.csv\")"
   ]
  },
  {
   "cell_type": "code",
   "execution_count": 4,
   "metadata": {},
   "outputs": [
    {
     "data": {
      "text/html": [
       "<style  type=\"text/css\" >\n",
       "    #T_4cde02b8_13b6_11eb_a931_db8e7c2957b2row0_col0 {\n",
       "            background-color:  #b40426;\n",
       "            color:  #f1f1f1;\n",
       "        }    #T_4cde02b8_13b6_11eb_a931_db8e7c2957b2row0_col1 {\n",
       "            background-color:  #f7b99e;\n",
       "            color:  #000000;\n",
       "        }    #T_4cde02b8_13b6_11eb_a931_db8e7c2957b2row0_col2 {\n",
       "            background-color:  #7699f6;\n",
       "            color:  #000000;\n",
       "        }    #T_4cde02b8_13b6_11eb_a931_db8e7c2957b2row0_col3 {\n",
       "            background-color:  #a6c4fe;\n",
       "            color:  #000000;\n",
       "        }    #T_4cde02b8_13b6_11eb_a931_db8e7c2957b2row1_col0 {\n",
       "            background-color:  #efcebd;\n",
       "            color:  #000000;\n",
       "        }    #T_4cde02b8_13b6_11eb_a931_db8e7c2957b2row1_col1 {\n",
       "            background-color:  #b40426;\n",
       "            color:  #f1f1f1;\n",
       "        }    #T_4cde02b8_13b6_11eb_a931_db8e7c2957b2row1_col2 {\n",
       "            background-color:  #3b4cc0;\n",
       "            color:  #f1f1f1;\n",
       "        }    #T_4cde02b8_13b6_11eb_a931_db8e7c2957b2row1_col3 {\n",
       "            background-color:  #3b4cc0;\n",
       "            color:  #f1f1f1;\n",
       "        }    #T_4cde02b8_13b6_11eb_a931_db8e7c2957b2row2_col0 {\n",
       "            background-color:  #3b4cc0;\n",
       "            color:  #f1f1f1;\n",
       "        }    #T_4cde02b8_13b6_11eb_a931_db8e7c2957b2row2_col1 {\n",
       "            background-color:  #3b4cc0;\n",
       "            color:  #f1f1f1;\n",
       "        }    #T_4cde02b8_13b6_11eb_a931_db8e7c2957b2row2_col2 {\n",
       "            background-color:  #b40426;\n",
       "            color:  #f1f1f1;\n",
       "        }    #T_4cde02b8_13b6_11eb_a931_db8e7c2957b2row2_col3 {\n",
       "            background-color:  #799cf8;\n",
       "            color:  #000000;\n",
       "        }    #T_4cde02b8_13b6_11eb_a931_db8e7c2957b2row3_col0 {\n",
       "            background-color:  #ccd9ed;\n",
       "            color:  #000000;\n",
       "        }    #T_4cde02b8_13b6_11eb_a931_db8e7c2957b2row3_col1 {\n",
       "            background-color:  #a9c6fd;\n",
       "            color:  #000000;\n",
       "        }    #T_4cde02b8_13b6_11eb_a931_db8e7c2957b2row3_col2 {\n",
       "            background-color:  #d2dbe8;\n",
       "            color:  #000000;\n",
       "        }    #T_4cde02b8_13b6_11eb_a931_db8e7c2957b2row3_col3 {\n",
       "            background-color:  #b40426;\n",
       "            color:  #f1f1f1;\n",
       "        }</style><table id=\"T_4cde02b8_13b6_11eb_a931_db8e7c2957b2\" ><thead>    <tr>        <th class=\"blank level0\" ></th>        <th class=\"col_heading level0 col0\" >Worldwide Gross</th>        <th class=\"col_heading level0 col1\" >Production Budget</th>        <th class=\"col_heading level0 col2\" >IMDB Rating</th>        <th class=\"col_heading level0 col3\" >IMDB Votes</th>    </tr></thead><tbody>\n",
       "                <tr>\n",
       "                        <th id=\"T_4cde02b8_13b6_11eb_a931_db8e7c2957b2level0_row0\" class=\"row_heading level0 row0\" >Worldwide Gross</th>\n",
       "                        <td id=\"T_4cde02b8_13b6_11eb_a931_db8e7c2957b2row0_col0\" class=\"data row0 col0\" >1.000000</td>\n",
       "                        <td id=\"T_4cde02b8_13b6_11eb_a931_db8e7c2957b2row0_col1\" class=\"data row0 col1\" >0.665780</td>\n",
       "                        <td id=\"T_4cde02b8_13b6_11eb_a931_db8e7c2957b2row0_col2\" class=\"data row0 col2\" >0.197521</td>\n",
       "                        <td id=\"T_4cde02b8_13b6_11eb_a931_db8e7c2957b2row0_col3\" class=\"data row0 col3\" >0.551564</td>\n",
       "            </tr>\n",
       "            <tr>\n",
       "                        <th id=\"T_4cde02b8_13b6_11eb_a931_db8e7c2957b2level0_row1\" class=\"row_heading level0 row1\" >Production Budget</th>\n",
       "                        <td id=\"T_4cde02b8_13b6_11eb_a931_db8e7c2957b2row1_col0\" class=\"data row1 col0\" >0.665780</td>\n",
       "                        <td id=\"T_4cde02b8_13b6_11eb_a931_db8e7c2957b2row1_col1\" class=\"data row1 col1\" >1.000000</td>\n",
       "                        <td id=\"T_4cde02b8_13b6_11eb_a931_db8e7c2957b2row1_col2\" class=\"data row1 col2\" >0.015312</td>\n",
       "                        <td id=\"T_4cde02b8_13b6_11eb_a931_db8e7c2957b2row1_col3\" class=\"data row1 col3\" >0.339755</td>\n",
       "            </tr>\n",
       "            <tr>\n",
       "                        <th id=\"T_4cde02b8_13b6_11eb_a931_db8e7c2957b2level0_row2\" class=\"row_heading level0 row2\" >IMDB Rating</th>\n",
       "                        <td id=\"T_4cde02b8_13b6_11eb_a931_db8e7c2957b2row2_col0\" class=\"data row2 col0\" >0.197521</td>\n",
       "                        <td id=\"T_4cde02b8_13b6_11eb_a931_db8e7c2957b2row2_col1\" class=\"data row2 col1\" >0.015312</td>\n",
       "                        <td id=\"T_4cde02b8_13b6_11eb_a931_db8e7c2957b2row2_col2\" class=\"data row2 col2\" >1.000000</td>\n",
       "                        <td id=\"T_4cde02b8_13b6_11eb_a931_db8e7c2957b2row2_col3\" class=\"data row2 col3\" >0.467389</td>\n",
       "            </tr>\n",
       "            <tr>\n",
       "                        <th id=\"T_4cde02b8_13b6_11eb_a931_db8e7c2957b2level0_row3\" class=\"row_heading level0 row3\" >IMDB Votes</th>\n",
       "                        <td id=\"T_4cde02b8_13b6_11eb_a931_db8e7c2957b2row3_col0\" class=\"data row3 col0\" >0.551564</td>\n",
       "                        <td id=\"T_4cde02b8_13b6_11eb_a931_db8e7c2957b2row3_col1\" class=\"data row3 col1\" >0.339755</td>\n",
       "                        <td id=\"T_4cde02b8_13b6_11eb_a931_db8e7c2957b2row3_col2\" class=\"data row3 col2\" >0.467389</td>\n",
       "                        <td id=\"T_4cde02b8_13b6_11eb_a931_db8e7c2957b2row3_col3\" class=\"data row3 col3\" >1.000000</td>\n",
       "            </tr>\n",
       "    </tbody></table>"
      ],
      "text/plain": [
       "<pandas.io.formats.style.Styler at 0x23ea8d648b0>"
      ]
     },
     "execution_count": 4,
     "metadata": {},
     "output_type": "execute_result"
    }
   ],
   "source": [
    "# Para criação do ranking escolhemos algumas colunas para \n",
    "# serem utilizadas como indicadores de qualidade para calcular o Elo ranking\n",
    "corr = df[['Title','Worldwide Gross','Production Budget','IMDB Rating','IMDB Votes']].corr()\n",
    "\n",
    "corr.style.background_gradient(cmap='coolwarm')"
   ]
  },
  {
   "cell_type": "code",
   "execution_count": 5,
   "metadata": {},
   "outputs": [],
   "source": [
    "df = df[['Title','Worldwide Gross','Production Budget','IMDB Rating','IMDB Votes']]\n",
    "df.dropna(inplace=True)"
   ]
  },
  {
   "cell_type": "code",
   "execution_count": 6,
   "metadata": {},
   "outputs": [
    {
     "data": {
      "text/plain": [
       "array([[1.46083000e+05, 8.00000000e+06, 6.10000000e+00, 1.07100000e+03],\n",
       "       [1.08760000e+04, 3.00000000e+05, 6.90000000e+00, 2.07000000e+02],\n",
       "       [2.03134000e+05, 2.50000000e+05, 6.80000000e+00, 8.65000000e+02],\n",
       "       ...,\n",
       "       [1.25061880e+07, 3.50000000e+07, 3.40000000e+00, 7.42400000e+03],\n",
       "       [1.41475336e+08, 8.00000000e+07, 5.70000000e+00, 2.11610000e+04],\n",
       "       [2.33700000e+08, 6.50000000e+07, 6.70000000e+00, 4.78900000e+03]])"
      ]
     },
     "execution_count": 6,
     "metadata": {},
     "output_type": "execute_result"
    }
   ],
   "source": [
    "x = df[['Worldwide Gross','Production Budget','IMDB Rating','IMDB Votes']]\n",
    "x.values"
   ]
  },
  {
   "cell_type": "code",
   "execution_count": 7,
   "metadata": {},
   "outputs": [],
   "source": [
    "# Normalizar os dados para que nenhuma variável seja mais importante do que outra\n",
    "x_scaled = preprocessing.MinMaxScaler().fit_transform(x.values)"
   ]
  },
  {
   "cell_type": "code",
   "execution_count": 8,
   "metadata": {},
   "outputs": [],
   "source": [
    "# Utilizando uma combinação linear das caracteristicas para criar um variável que indica a qualidade\n",
    "quality = np.sum(x_scaled,axis=1)\n",
    "df2 = df\n",
    "df2['Quality'] = quality"
   ]
  },
  {
   "cell_type": "code",
   "execution_count": 9,
   "metadata": {},
   "outputs": [
    {
     "data": {
      "text/html": [
       "<div>\n",
       "<style scoped>\n",
       "    .dataframe tbody tr th:only-of-type {\n",
       "        vertical-align: middle;\n",
       "    }\n",
       "\n",
       "    .dataframe tbody tr th {\n",
       "        vertical-align: top;\n",
       "    }\n",
       "\n",
       "    .dataframe thead th {\n",
       "        text-align: right;\n",
       "    }\n",
       "</style>\n",
       "<table border=\"1\" class=\"dataframe\">\n",
       "  <thead>\n",
       "    <tr style=\"text-align: right;\">\n",
       "      <th></th>\n",
       "      <th>Title</th>\n",
       "      <th>Worldwide Gross</th>\n",
       "      <th>Production Budget</th>\n",
       "      <th>IMDB Rating</th>\n",
       "      <th>IMDB Votes</th>\n",
       "      <th>Quality</th>\n",
       "    </tr>\n",
       "  </thead>\n",
       "  <tbody>\n",
       "    <tr>\n",
       "      <th>0</th>\n",
       "      <td>The Land Girls</td>\n",
       "      <td>146083.0</td>\n",
       "      <td>8000000.0</td>\n",
       "      <td>6.1</td>\n",
       "      <td>1071.0</td>\n",
       "      <td>0.631310</td>\n",
       "    </tr>\n",
       "    <tr>\n",
       "      <th>1</th>\n",
       "      <td>First Love, Last Rites</td>\n",
       "      <td>10876.0</td>\n",
       "      <td>300000.0</td>\n",
       "      <td>6.9</td>\n",
       "      <td>207.0</td>\n",
       "      <td>0.706495</td>\n",
       "    </tr>\n",
       "    <tr>\n",
       "      <th>2</th>\n",
       "      <td>I Married a Strange Person</td>\n",
       "      <td>203134.0</td>\n",
       "      <td>250000.0</td>\n",
       "      <td>6.8</td>\n",
       "      <td>865.0</td>\n",
       "      <td>0.694844</td>\n",
       "    </tr>\n",
       "  </tbody>\n",
       "</table>\n",
       "</div>"
      ],
      "text/plain": [
       "                        Title  Worldwide Gross  Production Budget  \\\n",
       "0              The Land Girls         146083.0          8000000.0   \n",
       "1      First Love, Last Rites          10876.0           300000.0   \n",
       "2  I Married a Strange Person         203134.0           250000.0   \n",
       "\n",
       "   IMDB Rating  IMDB Votes   Quality  \n",
       "0          6.1      1071.0  0.631310  \n",
       "1          6.9       207.0  0.706495  \n",
       "2          6.8       865.0  0.694844  "
      ]
     },
     "execution_count": 9,
     "metadata": {},
     "output_type": "execute_result"
    }
   ],
   "source": [
    "df2.head(3)"
   ]
  },
  {
   "cell_type": "markdown",
   "metadata": {},
   "source": [
    "**Ordenando pela  qualidade temos o ranking inicial dado abaixo**."
   ]
  },
  {
   "cell_type": "code",
   "execution_count": 11,
   "metadata": {},
   "outputs": [
    {
     "data": {
      "text/html": [
       "<div>\n",
       "<style scoped>\n",
       "    .dataframe tbody tr th:only-of-type {\n",
       "        vertical-align: middle;\n",
       "    }\n",
       "\n",
       "    .dataframe tbody tr th {\n",
       "        vertical-align: top;\n",
       "    }\n",
       "\n",
       "    .dataframe thead th {\n",
       "        text-align: right;\n",
       "    }\n",
       "</style>\n",
       "<table border=\"1\" class=\"dataframe\">\n",
       "  <thead>\n",
       "    <tr style=\"text-align: right;\">\n",
       "      <th></th>\n",
       "      <th>Title</th>\n",
       "      <th>Quality</th>\n",
       "    </tr>\n",
       "  </thead>\n",
       "  <tbody>\n",
       "    <tr>\n",
       "      <th>1234</th>\n",
       "      <td>Avatar</td>\n",
       "      <td>3.177810</td>\n",
       "    </tr>\n",
       "    <tr>\n",
       "      <th>1266</th>\n",
       "      <td>The Dark Knight</td>\n",
       "      <td>2.842581</td>\n",
       "    </tr>\n",
       "    <tr>\n",
       "      <th>2970</th>\n",
       "      <td>Titanic</td>\n",
       "      <td>2.565040</td>\n",
       "    </tr>\n",
       "    <tr>\n",
       "      <th>2202</th>\n",
       "      <td>The Lord of the Rings: The Return of the King</td>\n",
       "      <td>2.372154</td>\n",
       "    </tr>\n",
       "    <tr>\n",
       "      <th>2203</th>\n",
       "      <td>The Lord of the Rings: The Fellowship of the Ring</td>\n",
       "      <td>2.371594</td>\n",
       "    </tr>\n",
       "    <tr>\n",
       "      <th>...</th>\n",
       "      <td>...</td>\n",
       "      <td>...</td>\n",
       "    </tr>\n",
       "    <tr>\n",
       "      <th>452</th>\n",
       "      <td>Hybrid</td>\n",
       "      <td>0.103986</td>\n",
       "    </tr>\n",
       "    <tr>\n",
       "      <th>1754</th>\n",
       "      <td>From Justin to Kelly</td>\n",
       "      <td>0.101254</td>\n",
       "    </tr>\n",
       "    <tr>\n",
       "      <th>1247</th>\n",
       "      <td>Super Babies: Baby Geniuses 2</td>\n",
       "      <td>0.090876</td>\n",
       "    </tr>\n",
       "    <tr>\n",
       "      <th>1515</th>\n",
       "      <td>Crossover</td>\n",
       "      <td>0.073996</td>\n",
       "    </tr>\n",
       "    <tr>\n",
       "      <th>406</th>\n",
       "      <td>The Helix...  Loaded</td>\n",
       "      <td>0.017055</td>\n",
       "    </tr>\n",
       "  </tbody>\n",
       "</table>\n",
       "<p>2981 rows × 2 columns</p>\n",
       "</div>"
      ],
      "text/plain": [
       "                                                  Title   Quality\n",
       "1234                                             Avatar  3.177810\n",
       "1266                                    The Dark Knight  2.842581\n",
       "2970                                            Titanic  2.565040\n",
       "2202      The Lord of the Rings: The Return of the King  2.372154\n",
       "2203  The Lord of the Rings: The Fellowship of the Ring  2.371594\n",
       "...                                                 ...       ...\n",
       "452                                              Hybrid  0.103986\n",
       "1754                               From Justin to Kelly  0.101254\n",
       "1247                      Super Babies: Baby Geniuses 2  0.090876\n",
       "1515                                          Crossover  0.073996\n",
       "406                                The Helix...  Loaded  0.017055\n",
       "\n",
       "[2981 rows x 2 columns]"
      ]
     },
     "execution_count": 11,
     "metadata": {},
     "output_type": "execute_result"
    }
   ],
   "source": [
    "df2[['Title','Quality']].sort_values('Quality',ascending=False)"
   ]
  },
  {
   "cell_type": "code",
   "execution_count": null,
   "metadata": {},
   "outputs": [],
   "source": []
  }
 ],
 "metadata": {
  "kernelspec": {
   "display_name": "Python 3",
   "language": "python",
   "name": "python3"
  },
  "language_info": {
   "codemirror_mode": {
    "name": "ipython",
    "version": 3
   },
   "file_extension": ".py",
   "mimetype": "text/x-python",
   "name": "python",
   "nbconvert_exporter": "python",
   "pygments_lexer": "ipython3",
   "version": "3.8.3"
  }
 },
 "nbformat": 4,
 "nbformat_minor": 4
}
