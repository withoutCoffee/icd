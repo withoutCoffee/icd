{
 "cells": [
  {
   "cell_type": "markdown",
   "metadata": {},
   "source": [
    "# Introdução à Ciência de Dados - UFPB\n",
    "Aluno: Jonas Pereira de Oliveira\n",
    "\n",
    "## Pandas"
   ]
  },
  {
   "cell_type": "markdown",
   "metadata": {},
   "source": [
    "A partir do dataset `movies.csv` utilize o Pandas para responder as seguintes perguntas:"
   ]
  },
  {
   "cell_type": "markdown",
   "metadata": {},
   "source": [
    "### Qual o gênero de filme mais lucrativo em todo o mundo?"
   ]
  },
  {
   "cell_type": "code",
   "execution_count": 3,
   "metadata": {},
   "outputs": [],
   "source": [
    "import pandas as pd\n",
    "\n",
    "movies_df = pd.read_csv('datasets/movies.csv')"
   ]
  },
  {
   "cell_type": "code",
   "execution_count": 52,
   "metadata": {},
   "outputs": [
    {
     "data": {
      "text/html": [
       "<div>\n",
       "<style scoped>\n",
       "    .dataframe tbody tr th:only-of-type {\n",
       "        vertical-align: middle;\n",
       "    }\n",
       "\n",
       "    .dataframe tbody tr th {\n",
       "        vertical-align: top;\n",
       "    }\n",
       "\n",
       "    .dataframe thead th {\n",
       "        text-align: right;\n",
       "    }\n",
       "</style>\n",
       "<table border=\"1\" class=\"dataframe\">\n",
       "  <thead>\n",
       "    <tr style=\"text-align: right;\">\n",
       "      <th></th>\n",
       "      <th>Title</th>\n",
       "      <th>US Gross</th>\n",
       "      <th>Worldwide Gross</th>\n",
       "      <th>US DVD Sales</th>\n",
       "      <th>Production Budget</th>\n",
       "      <th>Release Date</th>\n",
       "      <th>MPAA Rating</th>\n",
       "      <th>Running Time (min)</th>\n",
       "      <th>Distributor</th>\n",
       "      <th>Source</th>\n",
       "      <th>Major Genre</th>\n",
       "      <th>Creative Type</th>\n",
       "      <th>Director</th>\n",
       "      <th>Rotten Tomatoes Rating</th>\n",
       "      <th>IMDB Rating</th>\n",
       "      <th>IMDB Votes</th>\n",
       "    </tr>\n",
       "  </thead>\n",
       "  <tbody>\n",
       "    <tr>\n",
       "      <th>0</th>\n",
       "      <td>The Land Girls</td>\n",
       "      <td>146083.0</td>\n",
       "      <td>146083.0</td>\n",
       "      <td>NaN</td>\n",
       "      <td>8000000.0</td>\n",
       "      <td>12-Jun-98</td>\n",
       "      <td>R</td>\n",
       "      <td>NaN</td>\n",
       "      <td>Gramercy</td>\n",
       "      <td>NaN</td>\n",
       "      <td>NaN</td>\n",
       "      <td>NaN</td>\n",
       "      <td>NaN</td>\n",
       "      <td>NaN</td>\n",
       "      <td>6.1</td>\n",
       "      <td>1071.0</td>\n",
       "    </tr>\n",
       "    <tr>\n",
       "      <th>1</th>\n",
       "      <td>First Love, Last Rites</td>\n",
       "      <td>10876.0</td>\n",
       "      <td>10876.0</td>\n",
       "      <td>NaN</td>\n",
       "      <td>300000.0</td>\n",
       "      <td>7-Aug-98</td>\n",
       "      <td>R</td>\n",
       "      <td>NaN</td>\n",
       "      <td>Strand</td>\n",
       "      <td>NaN</td>\n",
       "      <td>Drama</td>\n",
       "      <td>NaN</td>\n",
       "      <td>NaN</td>\n",
       "      <td>NaN</td>\n",
       "      <td>6.9</td>\n",
       "      <td>207.0</td>\n",
       "    </tr>\n",
       "  </tbody>\n",
       "</table>\n",
       "</div>"
      ],
      "text/plain": [
       "                    Title  US Gross  Worldwide Gross  US DVD Sales  \\\n",
       "0          The Land Girls  146083.0         146083.0           NaN   \n",
       "1  First Love, Last Rites   10876.0          10876.0           NaN   \n",
       "\n",
       "   Production Budget Release Date MPAA Rating  Running Time (min) Distributor  \\\n",
       "0          8000000.0    12-Jun-98           R                 NaN    Gramercy   \n",
       "1           300000.0     7-Aug-98           R                 NaN      Strand   \n",
       "\n",
       "  Source Major Genre Creative Type Director  Rotten Tomatoes Rating  \\\n",
       "0    NaN         NaN           NaN      NaN                     NaN   \n",
       "1    NaN       Drama           NaN      NaN                     NaN   \n",
       "\n",
       "   IMDB Rating  IMDB Votes  \n",
       "0          6.1      1071.0  \n",
       "1          6.9       207.0  "
      ]
     },
     "execution_count": 52,
     "metadata": {},
     "output_type": "execute_result"
    }
   ],
   "source": [
    "movies_df.head(2)"
   ]
  },
  {
   "cell_type": "code",
   "execution_count": 51,
   "metadata": {},
   "outputs": [
    {
     "name": "stdout",
     "output_type": "stream",
     "text": [
      "Gênero mais lucrativo:\n",
      "1234    Action\n",
      "Name: Major Genre, dtype: object\n",
      "\n",
      "Lucro:\n",
      "2767891499.0\n"
     ]
    }
   ],
   "source": [
    "max_gross = movies_df['Worldwide Gross'].max()\n",
    "result = movies_df[movies_df['Worldwide Gross'] == max_gross]['Major Genre']\n",
    "\n",
    "print(f\"Gênero mais lucrativo:\\n{result}\\n\\nLucro:\\n{max_gross}\")"
   ]
  },
  {
   "cell_type": "markdown",
   "metadata": {},
   "source": [
    "### Qual o diretor dirigiu mais filmes?"
   ]
  },
  {
   "cell_type": "code",
   "execution_count": 77,
   "metadata": {},
   "outputs": [
    {
     "name": "stdout",
     "output_type": "stream",
     "text": [
      "Diretor com mais filmes:\n",
      "# Steven Spielberg\n"
     ]
    }
   ],
   "source": [
    "most_famous_director = movies_df['Director'].value_counts().index[0]\n",
    "print(f\"Diretor com mais filmes:\\n# {most_famous_director}\")"
   ]
  },
  {
   "cell_type": "markdown",
   "metadata": {},
   "source": [
    "### Quais filmes tiverem os maiores arrecadações (Gross) em relação ao orçamento de produção (Budget)?"
   ]
  },
  {
   "cell_type": "code",
   "execution_count": 103,
   "metadata": {},
   "outputs": [
    {
     "data": {
      "text/html": [
       "<div>\n",
       "<style scoped>\n",
       "    .dataframe tbody tr th:only-of-type {\n",
       "        vertical-align: middle;\n",
       "    }\n",
       "\n",
       "    .dataframe tbody tr th {\n",
       "        vertical-align: top;\n",
       "    }\n",
       "\n",
       "    .dataframe thead th {\n",
       "        text-align: right;\n",
       "    }\n",
       "</style>\n",
       "<table border=\"1\" class=\"dataframe\">\n",
       "  <thead>\n",
       "    <tr style=\"text-align: right;\">\n",
       "      <th></th>\n",
       "      <th>Title</th>\n",
       "      <th>Final Gross</th>\n",
       "      <th>Worldwide Gross</th>\n",
       "      <th>Production Budget</th>\n",
       "      <th>IMDB Rating</th>\n",
       "    </tr>\n",
       "  </thead>\n",
       "  <tbody>\n",
       "    <tr>\n",
       "      <th>1234</th>\n",
       "      <td>Avatar</td>\n",
       "      <td>2.530891e+09</td>\n",
       "      <td>2.767891e+09</td>\n",
       "      <td>237000000.0</td>\n",
       "      <td>8.3</td>\n",
       "    </tr>\n",
       "    <tr>\n",
       "      <th>2970</th>\n",
       "      <td>Titanic</td>\n",
       "      <td>1.642880e+09</td>\n",
       "      <td>1.842880e+09</td>\n",
       "      <td>200000000.0</td>\n",
       "      <td>7.4</td>\n",
       "    </tr>\n",
       "    <tr>\n",
       "      <th>2202</th>\n",
       "      <td>The Lord of the Rings: The Return of the King</td>\n",
       "      <td>1.039027e+09</td>\n",
       "      <td>1.133027e+09</td>\n",
       "      <td>94000000.0</td>\n",
       "      <td>8.8</td>\n",
       "    </tr>\n",
       "    <tr>\n",
       "      <th>485</th>\n",
       "      <td>Jurassic Park</td>\n",
       "      <td>8.600679e+08</td>\n",
       "      <td>9.230679e+08</td>\n",
       "      <td>63000000.0</td>\n",
       "      <td>7.9</td>\n",
       "    </tr>\n",
       "    <tr>\n",
       "      <th>1975</th>\n",
       "      <td>Harry Potter and the Sorcerer's Stone</td>\n",
       "      <td>8.514579e+08</td>\n",
       "      <td>9.764579e+08</td>\n",
       "      <td>125000000.0</td>\n",
       "      <td>7.2</td>\n",
       "    </tr>\n",
       "    <tr>\n",
       "      <th>...</th>\n",
       "      <td>...</td>\n",
       "      <td>...</td>\n",
       "      <td>...</td>\n",
       "      <td>...</td>\n",
       "      <td>...</td>\n",
       "    </tr>\n",
       "    <tr>\n",
       "      <th>404</th>\n",
       "      <td>Hell's Angels</td>\n",
       "      <td>NaN</td>\n",
       "      <td>NaN</td>\n",
       "      <td>4000000.0</td>\n",
       "      <td>7.9</td>\n",
       "    </tr>\n",
       "    <tr>\n",
       "      <th>467</th>\n",
       "      <td>Intolerance</td>\n",
       "      <td>NaN</td>\n",
       "      <td>NaN</td>\n",
       "      <td>385907.0</td>\n",
       "      <td>NaN</td>\n",
       "    </tr>\n",
       "    <tr>\n",
       "      <th>1025</th>\n",
       "      <td>Waterloo</td>\n",
       "      <td>NaN</td>\n",
       "      <td>NaN</td>\n",
       "      <td>25000000.0</td>\n",
       "      <td>NaN</td>\n",
       "    </tr>\n",
       "    <tr>\n",
       "      <th>1028</th>\n",
       "      <td>Wings</td>\n",
       "      <td>NaN</td>\n",
       "      <td>NaN</td>\n",
       "      <td>2000000.0</td>\n",
       "      <td>7.9</td>\n",
       "    </tr>\n",
       "    <tr>\n",
       "      <th>1271</th>\n",
       "      <td>Baby Mama</td>\n",
       "      <td>NaN</td>\n",
       "      <td>6.439148e+07</td>\n",
       "      <td>NaN</td>\n",
       "      <td>6.1</td>\n",
       "    </tr>\n",
       "  </tbody>\n",
       "</table>\n",
       "<p>3201 rows × 5 columns</p>\n",
       "</div>"
      ],
      "text/plain": [
       "                                              Title   Final Gross  \\\n",
       "1234                                         Avatar  2.530891e+09   \n",
       "2970                                        Titanic  1.642880e+09   \n",
       "2202  The Lord of the Rings: The Return of the King  1.039027e+09   \n",
       "485                                   Jurassic Park  8.600679e+08   \n",
       "1975          Harry Potter and the Sorcerer's Stone  8.514579e+08   \n",
       "...                                             ...           ...   \n",
       "404                                   Hell's Angels           NaN   \n",
       "467                                     Intolerance           NaN   \n",
       "1025                                       Waterloo           NaN   \n",
       "1028                                          Wings           NaN   \n",
       "1271                                      Baby Mama           NaN   \n",
       "\n",
       "      Worldwide Gross  Production Budget  IMDB Rating  \n",
       "1234     2.767891e+09        237000000.0          8.3  \n",
       "2970     1.842880e+09        200000000.0          7.4  \n",
       "2202     1.133027e+09         94000000.0          8.8  \n",
       "485      9.230679e+08         63000000.0          7.9  \n",
       "1975     9.764579e+08        125000000.0          7.2  \n",
       "...               ...                ...          ...  \n",
       "404               NaN          4000000.0          7.9  \n",
       "467               NaN           385907.0          NaN  \n",
       "1025              NaN         25000000.0          NaN  \n",
       "1028              NaN          2000000.0          7.9  \n",
       "1271     6.439148e+07                NaN          6.1  \n",
       "\n",
       "[3201 rows x 5 columns]"
      ]
     },
     "execution_count": 103,
     "metadata": {},
     "output_type": "execute_result"
    }
   ],
   "source": [
    "movies_df['Final Gross'] =  movies_df['Worldwide Gross'] - movies_df['Production Budget']\n",
    "movies_df.sort_values(by='Final Gross',ascending=False)[['Title','Final Gross','Worldwide Gross','Production Budget','IMDB Rating']]"
   ]
  },
  {
   "cell_type": "code",
   "execution_count": null,
   "metadata": {},
   "outputs": [],
   "source": []
  }
 ],
 "metadata": {
  "kernelspec": {
   "display_name": "Python 3",
   "language": "python",
   "name": "python3"
  },
  "language_info": {
   "codemirror_mode": {
    "name": "ipython",
    "version": 3
   },
   "file_extension": ".py",
   "mimetype": "text/x-python",
   "name": "python",
   "nbconvert_exporter": "python",
   "pygments_lexer": "ipython3",
   "version": "3.8.3"
  }
 },
 "nbformat": 4,
 "nbformat_minor": 4
}
