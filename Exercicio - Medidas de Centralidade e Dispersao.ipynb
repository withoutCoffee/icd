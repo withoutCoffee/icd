{
 "cells": [
  {
   "cell_type": "markdown",
   "metadata": {},
   "source": [
    "# Introdução à Ciência de Dados - UFPB\n",
    "Aluno: Jonas Pereira de Oliveira\n",
    "\n",
    "## Medidas de Centralidade e Dispersão"
   ]
  },
  {
   "cell_type": "markdown",
   "metadata": {},
   "source": [
    "A partir do dataset `movies.csv` calcule a média, mediana e desvio padrão para as colunas:"
   ]
  },
  {
   "cell_type": "markdown",
   "metadata": {},
   "source": [
    "### US Gross"
   ]
  },
  {
   "cell_type": "code",
   "execution_count": 1,
   "metadata": {},
   "outputs": [
    {
     "data": {
      "text/html": [
       "<div>\n",
       "<style scoped>\n",
       "    .dataframe tbody tr th:only-of-type {\n",
       "        vertical-align: middle;\n",
       "    }\n",
       "\n",
       "    .dataframe tbody tr th {\n",
       "        vertical-align: top;\n",
       "    }\n",
       "\n",
       "    .dataframe thead th {\n",
       "        text-align: right;\n",
       "    }\n",
       "</style>\n",
       "<table border=\"1\" class=\"dataframe\">\n",
       "  <thead>\n",
       "    <tr style=\"text-align: right;\">\n",
       "      <th></th>\n",
       "      <th>Title</th>\n",
       "      <th>US Gross</th>\n",
       "      <th>Worldwide Gross</th>\n",
       "      <th>US DVD Sales</th>\n",
       "      <th>Production Budget</th>\n",
       "      <th>Release Date</th>\n",
       "      <th>MPAA Rating</th>\n",
       "      <th>Running Time (min)</th>\n",
       "      <th>Distributor</th>\n",
       "      <th>Source</th>\n",
       "      <th>Major Genre</th>\n",
       "      <th>Creative Type</th>\n",
       "      <th>Director</th>\n",
       "      <th>Rotten Tomatoes Rating</th>\n",
       "      <th>IMDB Rating</th>\n",
       "      <th>IMDB Votes</th>\n",
       "    </tr>\n",
       "  </thead>\n",
       "  <tbody>\n",
       "    <tr>\n",
       "      <th>0</th>\n",
       "      <td>The Land Girls</td>\n",
       "      <td>146083.0</td>\n",
       "      <td>146083.0</td>\n",
       "      <td>NaN</td>\n",
       "      <td>8000000.0</td>\n",
       "      <td>12-Jun-98</td>\n",
       "      <td>R</td>\n",
       "      <td>NaN</td>\n",
       "      <td>Gramercy</td>\n",
       "      <td>NaN</td>\n",
       "      <td>NaN</td>\n",
       "      <td>NaN</td>\n",
       "      <td>NaN</td>\n",
       "      <td>NaN</td>\n",
       "      <td>6.1</td>\n",
       "      <td>1071.0</td>\n",
       "    </tr>\n",
       "    <tr>\n",
       "      <th>1</th>\n",
       "      <td>First Love, Last Rites</td>\n",
       "      <td>10876.0</td>\n",
       "      <td>10876.0</td>\n",
       "      <td>NaN</td>\n",
       "      <td>300000.0</td>\n",
       "      <td>7-Aug-98</td>\n",
       "      <td>R</td>\n",
       "      <td>NaN</td>\n",
       "      <td>Strand</td>\n",
       "      <td>NaN</td>\n",
       "      <td>Drama</td>\n",
       "      <td>NaN</td>\n",
       "      <td>NaN</td>\n",
       "      <td>NaN</td>\n",
       "      <td>6.9</td>\n",
       "      <td>207.0</td>\n",
       "    </tr>\n",
       "  </tbody>\n",
       "</table>\n",
       "</div>"
      ],
      "text/plain": [
       "                    Title  US Gross  Worldwide Gross  US DVD Sales  \\\n",
       "0          The Land Girls  146083.0         146083.0           NaN   \n",
       "1  First Love, Last Rites   10876.0          10876.0           NaN   \n",
       "\n",
       "   Production Budget Release Date MPAA Rating  Running Time (min) Distributor  \\\n",
       "0          8000000.0    12-Jun-98           R                 NaN    Gramercy   \n",
       "1           300000.0     7-Aug-98           R                 NaN      Strand   \n",
       "\n",
       "  Source Major Genre Creative Type Director  Rotten Tomatoes Rating  \\\n",
       "0    NaN         NaN           NaN      NaN                     NaN   \n",
       "1    NaN       Drama           NaN      NaN                     NaN   \n",
       "\n",
       "   IMDB Rating  IMDB Votes  \n",
       "0          6.1      1071.0  \n",
       "1          6.9       207.0  "
      ]
     },
     "execution_count": 1,
     "metadata": {},
     "output_type": "execute_result"
    }
   ],
   "source": [
    "import pandas as pd\n",
    "import numpy as np\n",
    "\n",
    "movies_df = pd.read_csv('datasets/movies.csv')\n",
    "movies_df.head(2)"
   ]
  },
  {
   "cell_type": "code",
   "execution_count": 35,
   "metadata": {},
   "outputs": [],
   "source": [
    "def descriptive_measures(data):\n",
    "    data = data.dropna()\n",
    "\n",
    "    mean = np.mean(data)\n",
    "    median = np.median(data)\n",
    "    var = np.var(data)\n",
    "    sd = np.sqrt(var)\n",
    "\n",
    "    print(f\"Média: {mean}\\nMediana: {median}\\nVariância: {var}\\nDesvio Padrão:{sd}\")"
   ]
  },
  {
   "cell_type": "code",
   "execution_count": 38,
   "metadata": {},
   "outputs": [
    {
     "name": "stdout",
     "output_type": "stream",
     "text": [
      "Média: 44002085.163744524\n",
      "Mediana: 22019465.5\n",
      "Variância: 3911941821321967.0\n",
      "Desvio Padrão:62545517.99547244\n"
     ]
    }
   ],
   "source": [
    "us_gross = movies_df['US Gross']\n",
    "descriptive_measures(us_gross)"
   ]
  },
  {
   "cell_type": "markdown",
   "metadata": {},
   "source": [
    "### Production Budget"
   ]
  },
  {
   "cell_type": "code",
   "execution_count": 40,
   "metadata": {},
   "outputs": [
    {
     "name": "stdout",
     "output_type": "stream",
     "text": [
      "Média: 31069171.4484375\n",
      "Mediana: 20000000.0\n",
      "Variância: 1265961499053571.8\n",
      "Desvio Padrão:35580352.71120245\n"
     ]
    }
   ],
   "source": [
    "production_budget = movies_df['Production Budget']\n",
    "descriptive_measures(production_budget)"
   ]
  },
  {
   "cell_type": "markdown",
   "metadata": {},
   "source": [
    "### Running Time"
   ]
  },
  {
   "cell_type": "code",
   "execution_count": 41,
   "metadata": {},
   "outputs": [
    {
     "name": "stdout",
     "output_type": "stream",
     "text": [
      "Média: 110.19354838709677\n",
      "Mediana: 107.0\n",
      "Variância: 406.5332586248299\n",
      "Desvio Padrão:20.16266992798399\n"
     ]
    }
   ],
   "source": [
    "r_time = movies_df['Running Time (min)']\n",
    "descriptive_measures(r_time)"
   ]
  },
  {
   "cell_type": "markdown",
   "metadata": {},
   "source": [
    "### IMDB Rating"
   ]
  },
  {
   "cell_type": "code",
   "execution_count": 42,
   "metadata": {},
   "outputs": [
    {
     "name": "stdout",
     "output_type": "stream",
     "text": [
      "Média: 6.283467202141901\n",
      "Mediana: 6.4\n",
      "Variância: 1.5677052475856126\n",
      "Desvio Padrão:1.2520803678620684\n"
     ]
    }
   ],
   "source": [
    "imdb_rating = movies_df['IMDB Rating']\n",
    "descriptive_measures(imdb_rating)"
   ]
  },
  {
   "cell_type": "markdown",
   "metadata": {},
   "source": [
    "### IMDB Votes"
   ]
  },
  {
   "cell_type": "code",
   "execution_count": 43,
   "metadata": {},
   "outputs": [
    {
     "name": "stdout",
     "output_type": "stream",
     "text": [
      "Média: 29908.64457831325\n",
      "Mediana: 15106.0\n",
      "Variância: 2018710474.02227\n",
      "Desvio Padrão:44930.062030029185\n"
     ]
    }
   ],
   "source": [
    "imdb_votes = movies_df['IMDB Votes']\n",
    "descriptive_measures(imdb_votes)"
   ]
  },
  {
   "cell_type": "markdown",
   "metadata": {},
   "source": [
    "### Análise dos Resultados\n",
    "\n",
    "Quais colunas tiveram valores muito diferentes entre média e mediana? Quais os seus desvios padrão?"
   ]
  },
  {
   "cell_type": "markdown",
   "metadata": {},
   "source": [
    "- **US Gross**\n",
    "- **Production Budget**\n",
    "- **IMDB Votes**"
   ]
  },
  {
   "cell_type": "markdown",
   "metadata": {},
   "source": [
    "Que conclusões podemos tirar desses resultados?"
   ]
  },
  {
   "cell_type": "markdown",
   "metadata": {},
   "source": [
    "**Tomando como base as medidadas descritivas acima nota-se que as colunas citadas tem um variação muito grande de valores ,valores baixos e valores bem altos. Um hipótese que podemos ter é sobre a diferença entre filmes mais famosos que tem mais orçamento e lucro, e filmes de produtoras menores com orçamentos e lucros mais singelos.**"
   ]
  },
  {
   "cell_type": "code",
   "execution_count": null,
   "metadata": {},
   "outputs": [],
   "source": []
  }
 ],
 "metadata": {
  "kernelspec": {
   "display_name": "Python 3",
   "language": "python",
   "name": "python3"
  },
  "language_info": {
   "codemirror_mode": {
    "name": "ipython",
    "version": 3
   },
   "file_extension": ".py",
   "mimetype": "text/x-python",
   "name": "python",
   "nbconvert_exporter": "python",
   "pygments_lexer": "ipython3",
   "version": "3.8.3"
  }
 },
 "nbformat": 4,
 "nbformat_minor": 4
}
