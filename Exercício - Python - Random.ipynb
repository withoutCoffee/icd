{
 "cells": [
  {
   "cell_type": "markdown",
   "metadata": {},
   "source": [
    "# Introdução à Ciência de Dados - UFPB\n",
    "Professor: Yuri Malheiros\n",
    "\n",
    "## Python - Random - Exercício"
   ]
  },
  {
   "cell_type": "markdown",
   "metadata": {},
   "source": [
    "Implemente a função `generate_password` que deve gerar uma senha aleatória.\n",
    "\n",
    "A função tem tres parâmetros:\n",
    "\n",
    "- `n_chars` especifica o tamanho da senha gerada\n",
    "- `use_numbers` especifica se números podem ser usados na senha. Por padrão, esse parâmetro tem valor True\n",
    "- `use_special_chars` especifica se caracteres especiais, por exemplo !#%&@?, pode ser usados na senha. Por padrão, esse parâmetro tem valor True\n",
    "\n",
    "Note que se `use_numbers` e `use_special_chars` tiverem valor False, a senha terá apenas letras maiúsculas ou minúsculas."
   ]
  },
  {
   "cell_type": "code",
   "execution_count": 232,
   "metadata": {},
   "outputs": [],
   "source": [
    "import random\n",
    "s\n",
    "def generate_password(n_chars, use_numbers=True, use_special_chars=True):\n",
    "    \n",
    "    alphabet = ['a','b','c','d','e','f','g','h','i','j','k','l','m','n','o','p','q','r','s','t','u','v','w','x','y','z']\n",
    "    symbols = ['!','#','%','&','@','?']\n",
    "    numbers = [i for i in range(0,10)]\n",
    "    \n",
    "    password = []\n",
    "    ax = 1\n",
    "    \n",
    "    if use_numbers:\n",
    "        first = [numbers[random.randint(0,len(numbers)-1)] for i in range(0,random.randint(1,n_chars - 2))]\n",
    "        password.extend(first)\n",
    "        ax = len(password) + 1\n",
    "        \n",
    "    if use_special_chars:\n",
    "        second = [symbols[random.randint(0,len(symbols)-1)] for i in range(0,random.randint(1,n_chars-ax))]\n",
    "        password.extend(second)\n",
    "        \n",
    "    password.extend(random.sample(alphabet,n_chars - len(password)))\n",
    "    \n",
    "    return password\n",
    "    "
   ]
  },
  {
   "cell_type": "code",
   "execution_count": 246,
   "metadata": {},
   "outputs": [
    {
     "name": "stdout",
     "output_type": "stream",
     "text": [
      "[0, 0, 1, '#', '&', '%', '@', '%', 'g', 'u']\n",
      "['?', '&', '&', '@', '#', 's', 'i', 'h', 'w', 'v']\n",
      "['u', 'l', 'e', 'i', 'j', 'q', 'r', 'd', 'c', 'm']\n"
     ]
    }
   ],
   "source": [
    "print(generate_password(10))\n",
    "print(generate_password(10, use_numbers=False))\n",
    "print(generate_password(10, use_numbers=False, use_special_chars=False))"
   ]
  },
  {
   "cell_type": "code",
   "execution_count": null,
   "metadata": {},
   "outputs": [],
   "source": []
  },
  {
   "cell_type": "code",
   "execution_count": null,
   "metadata": {},
   "outputs": [],
   "source": []
  }
 ],
 "metadata": {
  "kernelspec": {
   "display_name": "Python 3",
   "language": "python",
   "name": "python3"
  },
  "language_info": {
   "codemirror_mode": {
    "name": "ipython",
    "version": 3
   },
   "file_extension": ".py",
   "mimetype": "text/x-python",
   "name": "python",
   "nbconvert_exporter": "python",
   "pygments_lexer": "ipython3",
   "version": "3.8.3"
  }
 },
 "nbformat": 4,
 "nbformat_minor": 4
}
